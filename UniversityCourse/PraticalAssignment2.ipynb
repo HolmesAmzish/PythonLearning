{
 "cells": [
  {
   "metadata": {},
   "cell_type": "markdown",
   "source": [
    "# Python 上机作业 2\n",
    "\n",
    "*2024-10-24*"
   ],
   "id": "5d1fac9c779118f5"
  },
  {
   "metadata": {},
   "cell_type": "markdown",
   "source": [
    "## 2.1 求阶乘\n",
    "\n",
    "编写程序，定义一个求阶乘的函数fact(n)，并编写测试代码，要求输入整数n（n>=0）。请分别使用递归和非递归方式实现"
   ],
   "id": "51cd511479ba2d3e"
  },
  {
   "metadata": {
    "ExecuteTime": {
     "end_time": "2024-10-24T05:19:47.163364Z",
     "start_time": "2024-10-24T05:19:45.162881Z"
    }
   },
   "cell_type": "code",
   "source": [
    "def factorial(n):\n",
    "    result = 1\n",
    "    for i in range(1, n + 1):\n",
    "        result *= i\n",
    "    return result\n",
    "\n",
    "n = int(input(\"Enter a number: \"))\n",
    "print(factorial(n))"
   ],
   "id": "f562d262e0adca4f",
   "outputs": [
    {
     "name": "stdout",
     "output_type": "stream",
     "text": [
      "362880\n"
     ]
    }
   ],
   "execution_count": 2
  },
  {
   "metadata": {
    "ExecuteTime": {
     "end_time": "2024-10-24T05:19:50.834463Z",
     "start_time": "2024-10-24T05:19:49.332211Z"
    }
   },
   "cell_type": "code",
   "source": [
    "def factorial(n):\n",
    "    if n == 1 or n == 2:\n",
    "        return n\n",
    "    else:\n",
    "        return factorial(n-1) * n\n",
    "    \n",
    "n = int(input(\"Enter a number: \"))\n",
    "print(factorial(n))"
   ],
   "id": "bef9312a477de124",
   "outputs": [
    {
     "name": "stdout",
     "output_type": "stream",
     "text": [
      "362880\n"
     ]
    }
   ],
   "execution_count": 3
  },
  {
   "metadata": {},
   "cell_type": "markdown",
   "source": [
    "## 2.2 折半查找\n",
    "\n",
    "用折半查找法查33和58在列表[1,13,26,33,45,55,68,72,83,99]中的位置，\n",
    "\n",
    "要求：分别用递归和非递归的方法来实现。\n",
    "\n",
    "输出结果是：\n",
    "\n",
    "关键字33在列表中的索引是：3\n",
    "\n",
    "关键字58不在该列表中"
   ],
   "id": "25035e59e3505196"
  },
  {
   "metadata": {
    "ExecuteTime": {
     "end_time": "2024-10-24T05:36:38.415785Z",
     "start_time": "2024-10-24T05:36:36.948153Z"
    }
   },
   "cell_type": "code",
   "source": [
    "\"\"\"\n",
    "non-recursive solution\n",
    "\"\"\"\n",
    "def find_by_mid(n, array):\n",
    "    left = 0\n",
    "    right = len(array) - 1\n",
    "    while left <= right:\n",
    "        mid = (left + right) // 2\n",
    "        if array[mid] == n:\n",
    "            return mid\n",
    "        if array[mid] > n:\n",
    "            right = mid\n",
    "        else:\n",
    "            left = mid + 1\n",
    "    return -1\n",
    "\n",
    "array = [1, 13, 26, 33, 45, 55, 68, 72, 83, 99]\n",
    "n = int(input(\"Enter a number: \"))\n",
    "\n",
    "if find_by_mid(n, array) == -1:\n",
    "    print(f\"{n} not found\")\n",
    "else:\n",
    "    print(f\"The index of {n} is: {find_by_mid(n,array)}\")"
   ],
   "id": "a86a8b400271142",
   "outputs": [
    {
     "name": "stdout",
     "output_type": "stream",
     "text": [
      "The index of 33 is: 3\n"
     ]
    }
   ],
   "execution_count": 20
  },
  {
   "metadata": {
    "ExecuteTime": {
     "end_time": "2024-10-24T05:45:04.944436Z",
     "start_time": "2024-10-24T05:45:03.621769Z"
    }
   },
   "cell_type": "code",
   "source": [
    "\"\"\"\n",
    "recursive solution\n",
    "\"\"\"\n",
    "\n",
    "def find_by_mid(n, array, left, right):\n",
    "    if left <= right:\n",
    "        mid = (left + right) // 2\n",
    "        if array[mid] == n:\n",
    "            return mid\n",
    "        if array[mid] > n:\n",
    "            return find_by_mid(n, array, left, mid - 1)\n",
    "        else:\n",
    "            return find_by_mid(n, array, mid + 1, right)\n",
    "        \n",
    "    if left >= right:\n",
    "        return -1\n",
    "    \n",
    "left = 0\n",
    "right = len(array) - 1\n",
    "\n",
    "n = int(input(\"Enter a number: \"))\n",
    "index = find_by_mid(n, array, left, right)\n",
    "if index == -1:\n",
    "    print(f\"{n} not found\")\n",
    "else:\n",
    "    print(f\"The index of {n} is: {index}\")"
   ],
   "id": "3a51d7d97546a08b",
   "outputs": [
    {
     "name": "stdout",
     "output_type": "stream",
     "text": [
      "The index of 33 is: 3\n"
     ]
    }
   ],
   "execution_count": 29
  },
  {
   "metadata": {},
   "cell_type": "markdown",
   "source": [
    "## 2.3 文本文件\n",
    "1.打开该文件file2.txt，并将元组t = \"spring\", \"summer\", \"autumn\"写入到文件中，要求元组中每个元素单独放在一行中，建议使用for循环语句。\n",
    "2.打开该文件并字符串\" winter\"追加到文件最后一行下面的一行，使得文件中的内容包括如下4行文字：\n",
    "```\n",
    "spring\n",
    "summer\n",
    "autumn\n",
    "winter\n",
    "```\n",
    "3.打开该文件并将其中的最后两行文字显示到屏幕上。\n",
    "4.思考：若一开始文件file2.txt不存在，一定要先创建该文件？若要在读取文件的过程中增加异常处理的代码，以便在文件不存在或打开失败的异常情况下，向用户提示“文件file2.txt打开失败！”，应该怎么修改代码\n"
   ],
   "id": "b64ecce30a77574"
  },
  {
   "metadata": {
    "ExecuteTime": {
     "end_time": "2024-10-24T06:15:48.973977Z",
     "start_time": "2024-10-24T06:15:48.963549Z"
    }
   },
   "cell_type": "code",
   "source": [
    "t = ('spring', 'summer', 'autumn')\n",
    "with open(\"file2.txt\", \"w\") as file:\n",
    "    for i in t:\n",
    "        file.write(f'{i}\\n')\n",
    "file.close()"
   ],
   "id": "c9d5f60fb70cf022",
   "outputs": [],
   "execution_count": 48
  },
  {
   "metadata": {
    "ExecuteTime": {
     "end_time": "2024-10-24T06:05:00.689419Z",
     "start_time": "2024-10-24T06:05:00.671182Z"
    }
   },
   "cell_type": "code",
   "source": [
    "with open(\"file2.txt\", \"a\") as file:\n",
    "    file.write(f'winter\\n')\n",
    "file.close()"
   ],
   "id": "be35b79f708f1261",
   "outputs": [],
   "execution_count": 39
  },
  {
   "metadata": {
    "ExecuteTime": {
     "end_time": "2024-10-24T06:03:52.176466Z",
     "start_time": "2024-10-24T06:03:52.160122Z"
    }
   },
   "cell_type": "code",
   "source": [
    "with open(\"file2.txt\", \"r\") as file:\n",
    "    lines = file.readlines()\n",
    "    for line in lines[-2:]:\n",
    "        print(line, end='')\n",
    "file.close()"
   ],
   "id": "558803554a698794",
   "outputs": [
    {
     "name": "stdout",
     "output_type": "stream",
     "text": [
      "autumn\n",
      "winter\n"
     ]
    }
   ],
   "execution_count": 38
  },
  {
   "metadata": {
    "ExecuteTime": {
     "end_time": "2024-10-24T06:15:51.596503Z",
     "start_time": "2024-10-24T06:15:51.559904Z"
    }
   },
   "cell_type": "code",
   "source": [
    "try:\n",
    "    with open (\"file2.txt\") as file:\n",
    "        for i in t:\n",
    "            file.write(f'{i}\\n')\n",
    "    file.close()\n",
    "except FileNotFoundError:\n",
    "    print(\"File not found\")\n",
    "except Exception as e:\n",
    "    print(f\"Error, {e}\")"
   ],
   "id": "238acc0ee2443f1d",
   "outputs": [
    {
     "name": "stdout",
     "output_type": "stream",
     "text": [
      "Error, not writable\n"
     ]
    }
   ],
   "execution_count": 49
  },
  {
   "metadata": {},
   "cell_type": "markdown",
   "source": [
    "## 2.4 二进制文件读写\n",
    "\n",
    "打开一个空的随机文件my.dat，往里面写入下面2行字节数据：\n",
    "\n",
    "```\n",
    "Xiaoming\n",
    "student\n",
    "```\n",
    "然后读入该文件的后7个字节并输出到屏幕上。"
   ],
   "id": "6de143b8b8737ad1"
  },
  {
   "metadata": {
    "ExecuteTime": {
     "end_time": "2024-10-24T06:25:57.605261Z",
     "start_time": "2024-10-24T06:25:57.589239Z"
    }
   },
   "cell_type": "code",
   "source": [
    "with open('my.dat', 'wb') as file:\n",
    "    file.write(b'Xiaoming\\n')\n",
    "    file.write(b'student\\n')\n",
    "\n",
    "with open('my.dat', 'rb') as file:\n",
    "    file.seek(-8, 2)\n",
    "    output = file.read(7)\n",
    "    \n",
    "print(output)\n"
   ],
   "id": "43ee28774a4b8045",
   "outputs": [
    {
     "name": "stdout",
     "output_type": "stream",
     "text": [
      "b'student'\n"
     ]
    }
   ],
   "execution_count": 59
  }
 ],
 "metadata": {
  "kernelspec": {
   "display_name": "Python 3",
   "language": "python",
   "name": "python3"
  },
  "language_info": {
   "codemirror_mode": {
    "name": "ipython",
    "version": 2
   },
   "file_extension": ".py",
   "mimetype": "text/x-python",
   "name": "python",
   "nbconvert_exporter": "python",
   "pygments_lexer": "ipython2",
   "version": "2.7.6"
  }
 },
 "nbformat": 4,
 "nbformat_minor": 5
}
