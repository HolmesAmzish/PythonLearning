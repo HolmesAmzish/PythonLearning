{
 "cells": [
  {
   "cell_type": "markdown",
   "id": "5d1fac9c779118f5",
   "metadata": {},
   "source": [
    "# Python 上机作业 2\n",
    "\n",
    "*2024-10-24*"
   ]
  },
  {
   "cell_type": "markdown",
   "id": "51cd511479ba2d3e",
   "metadata": {},
   "source": [
    "## 2.1 求阶乘\n",
    "\n",
    "编写程序，定义一个求阶乘的函数fact(n)，并编写测试代码，要求输入整数n（n>=0）。请分别使用递归和非递归方式实现"
   ]
  },
  {
   "cell_type": "code",
   "execution_count": 2,
   "id": "f562d262e0adca4f",
   "metadata": {
    "ExecuteTime": {
     "end_time": "2024-10-24T05:19:47.163364Z",
     "start_time": "2024-10-24T05:19:45.162881Z"
    }
   },
   "outputs": [
    {
     "name": "stdout",
     "output_type": "stream",
     "text": [
      "362880\n"
     ]
    }
   ],
   "source": [
    "def factorial(n):\n",
    "    result = 1\n",
    "    for i in range(1, n + 1):\n",
    "        result *= i\n",
    "    return result\n",
    "\n",
    "n = int(input(\"Enter a number: \"))\n",
    "print(factorial(n))"
   ]
  },
  {
   "cell_type": "code",
   "execution_count": 3,
   "id": "bef9312a477de124",
   "metadata": {
    "ExecuteTime": {
     "end_time": "2024-10-24T05:19:50.834463Z",
     "start_time": "2024-10-24T05:19:49.332211Z"
    }
   },
   "outputs": [
    {
     "name": "stdout",
     "output_type": "stream",
     "text": [
      "362880\n"
     ]
    }
   ],
   "source": [
    "def factorial(n):\n",
    "    if n == 1 or n == 2:\n",
    "        return n\n",
    "    else:\n",
    "        return factorial(n-1) * n\n",
    "    \n",
    "n = int(input(\"Enter a number: \"))\n",
    "print(factorial(n))"
   ]
  },
  {
   "cell_type": "markdown",
   "id": "25035e59e3505196",
   "metadata": {},
   "source": [
    "## 2.2 折半查找\n",
    "\n",
    "用折半查找法查33和58在列表[1,13,26,33,45,55,68,72,83,99]中的位置，\n",
    "\n",
    "要求：分别用递归和非递归的方法来实现。\n",
    "\n",
    "输出结果是：\n",
    "\n",
    "关键字33在列表中的索引是：3\n",
    "\n",
    "关键字58不在该列表中"
   ]
  },
  {
   "cell_type": "code",
   "execution_count": 20,
   "id": "a86a8b400271142",
   "metadata": {
    "ExecuteTime": {
     "end_time": "2024-10-24T05:36:38.415785Z",
     "start_time": "2024-10-24T05:36:36.948153Z"
    }
   },
   "outputs": [
    {
     "name": "stdout",
     "output_type": "stream",
     "text": [
      "The index of 33 is: 3\n"
     ]
    }
   ],
   "source": [
    "\"\"\"\n",
    "non-recursive solution\n",
    "\"\"\"\n",
    "def find_by_mid(n, array):\n",
    "    left = 0\n",
    "    right = len(array) - 1\n",
    "    while left <= right:\n",
    "        mid = (left + right) // 2\n",
    "        if array[mid] == n:\n",
    "            return mid\n",
    "        if array[mid] > n:\n",
    "            right = mid\n",
    "        else:\n",
    "            left = mid + 1\n",
    "    return -1\n",
    "\n",
    "array = [1, 13, 26, 33, 45, 55, 68, 72, 83, 99]\n",
    "n = int(input(\"Enter a number: \"))\n",
    "\n",
    "if find_by_mid(n, array) == -1:\n",
    "    print(f\"{n} not found\")\n",
    "else:\n",
    "    print(f\"The index of {n} is: {find_by_mid(n,array)}\")"
   ]
  },
  {
   "cell_type": "code",
   "execution_count": 29,
   "id": "3a51d7d97546a08b",
   "metadata": {
    "ExecuteTime": {
     "end_time": "2024-10-24T05:45:04.944436Z",
     "start_time": "2024-10-24T05:45:03.621769Z"
    }
   },
   "outputs": [
    {
     "name": "stdout",
     "output_type": "stream",
     "text": [
      "The index of 33 is: 3\n"
     ]
    }
   ],
   "source": [
    "\"\"\"\n",
    "recursive solution\n",
    "\"\"\"\n",
    "\n",
    "def find_by_mid(n, array, left, right):\n",
    "    if left <= right:\n",
    "        mid = (left + right) // 2\n",
    "        if array[mid] == n:\n",
    "            return mid\n",
    "        if array[mid] > n:\n",
    "            return find_by_mid(n, array, left, mid - 1)\n",
    "        else:\n",
    "            return find_by_mid(n, array, mid + 1, right)\n",
    "        \n",
    "    if left >= right:\n",
    "        return -1\n",
    "    \n",
    "left = 0\n",
    "right = len(array) - 1\n",
    "\n",
    "n = int(input(\"Enter a number: \"))\n",
    "index = find_by_mid(n, array, left, right)\n",
    "if index == -1:\n",
    "    print(f\"{n} not found\")\n",
    "else:\n",
    "    print(f\"The index of {n} is: {index}\")"
   ]
  },
  {
   "cell_type": "markdown",
   "id": "b64ecce30a77574",
   "metadata": {},
   "source": [
    "## 2.3 文本文件\n",
    "1.打开该文件file2.txt，并将元组t = \"spring\", \"summer\", \"autumn\"写入到文件中，要求元组中每个元素单独放在一行中，建议使用for循环语句。\n",
    "2.打开该文件并字符串\" winter\"追加到文件最后一行下面的一行，使得文件中的内容包括如下4行文字：\n",
    "```\n",
    "spring\n",
    "summer\n",
    "autumn\n",
    "winter\n",
    "```\n",
    "3.打开该文件并将其中的最后两行文字显示到屏幕上。\n",
    "4.思考：若一开始文件file2.txt不存在，一定要先创建该文件？若要在读取文件的过程中增加异常处理的代码，以便在文件不存在或打开失败的异常情况下，向用户提示“文件file2.txt打开失败！”，应该怎么修改代码\n"
   ]
  },
  {
   "cell_type": "code",
   "execution_count": 48,
   "id": "c9d5f60fb70cf022",
   "metadata": {
    "ExecuteTime": {
     "end_time": "2024-10-24T06:15:48.973977Z",
     "start_time": "2024-10-24T06:15:48.963549Z"
    }
   },
   "outputs": [],
   "source": [
    "t = ('spring', 'summer', 'autumn')\n",
    "with open(\"file2.txt\", \"w\") as file:\n",
    "    for i in t:\n",
    "        file.write(f'{i}\\n')"
   ]
  },
  {
   "cell_type": "code",
   "execution_count": 39,
   "id": "be35b79f708f1261",
   "metadata": {
    "ExecuteTime": {
     "end_time": "2024-10-24T06:05:00.689419Z",
     "start_time": "2024-10-24T06:05:00.671182Z"
    }
   },
   "outputs": [],
   "source": [
    "with open(\"file2.txt\", \"a\") as file:\n",
    "    file.write(f'winter\\n')"
   ]
  },
  {
   "cell_type": "code",
   "execution_count": 38,
   "id": "558803554a698794",
   "metadata": {
    "ExecuteTime": {
     "end_time": "2024-10-24T06:03:52.176466Z",
     "start_time": "2024-10-24T06:03:52.160122Z"
    }
   },
   "outputs": [
    {
     "name": "stdout",
     "output_type": "stream",
     "text": [
      "autumn\n",
      "winter\n"
     ]
    }
   ],
   "source": [
    "with open(\"file2.txt\", \"r\") as file:\n",
    "    lines = file.readlines()\n",
    "    for line in lines[-2:]:\n",
    "        print(line, end='')"
   ]
  },
  {
   "cell_type": "code",
   "execution_count": 49,
   "id": "238acc0ee2443f1d",
   "metadata": {
    "ExecuteTime": {
     "end_time": "2024-10-24T06:15:51.596503Z",
     "start_time": "2024-10-24T06:15:51.559904Z"
    }
   },
   "outputs": [
    {
     "name": "stdout",
     "output_type": "stream",
     "text": [
      "Error, not writable\n"
     ]
    }
   ],
   "source": [
    "try:\n",
    "    with open (\"file2.txt\") as file:\n",
    "        for i in t:\n",
    "            file.write(f'{i}\\n')\n",
    "except FileNotFoundError:\n",
    "    print(\"File not found\")\n",
    "except Exception as e:\n",
    "    print(f\"Error, {e}\")"
   ]
  },
  {
   "cell_type": "markdown",
   "id": "6de143b8b8737ad1",
   "metadata": {},
   "source": [
    "## 2.4 二进制文件读写\n",
    "\n",
    "打开一个空的随机文件my.dat，往里面写入下面2行字节数据：\n",
    "\n",
    "```\n",
    "Xiaoming\n",
    "student\n",
    "```\n",
    "然后读入该文件的后7个字节并输出到屏幕上。"
   ]
  },
  {
   "cell_type": "code",
   "execution_count": 59,
   "id": "43ee28774a4b8045",
   "metadata": {
    "ExecuteTime": {
     "end_time": "2024-10-24T06:25:57.605261Z",
     "start_time": "2024-10-24T06:25:57.589239Z"
    }
   },
   "outputs": [
    {
     "name": "stdout",
     "output_type": "stream",
     "text": [
      "b'student'\n"
     ]
    }
   ],
   "source": [
    "with open('my.dat', 'wb') as file:\n",
    "    file.write(b'Xiaoming\\n')\n",
    "    file.write(b'student\\n')\n",
    "\n",
    "with open('my.dat', 'rb') as file:\n",
    "    file.seek(-8, 2)\n",
    "    output = file.read(7)\n",
    "    \n",
    "print(output)\n"
   ]
  },
  {
   "cell_type": "markdown",
   "id": "4c2b03b1b0389e92",
   "metadata": {},
   "source": [
    "## 2.5 类的继承\n",
    "\n",
    "通过继承，派生类继承基类中除构造方法之外的所有成员。如果在子类类中重新定义从基类继承的方法，则派生类中定义的方法覆盖从基类中继承的方法，即子类同名方法优先。反之，若子类没有重新定义，则使用从父类继承过来的方法。\n",
    "\n",
    "先定义父类Dimension，在类中定义计算面积的函数area，该函数就输出一行话“形状没定，无法计算面积！”。然后定义Dimension的一个子类Triangle（表示三角形），在其中定义构造函数、计算面积的函数area。\n",
    "之后再按照类似的方式分别创建圆形、矩形的类。\n",
    "最后分别创建上述3种对象，然后输出它们的面积。"
   ]
  },
  {
   "cell_type": "code",
   "execution_count": null,
   "id": "d657fb68b44bd409",
   "metadata": {},
   "outputs": [],
   "source": [
    "%reset -f\n",
    "\n",
    "import math\n",
    "\n",
    "\n",
    "class Dimension:\n",
    "    def area(self):\n",
    "        print('Shape is undefined')\n",
    "\n",
    "\n",
    "class Triangle(Dimension):\n",
    "    def __init__(self, base, height):\n",
    "        self.base = base\n",
    "        self.height = height\n",
    "\n",
    "    def area(self):\n",
    "        return self.base * self.height / 2\n",
    "\n",
    "\n",
    "class Circle(Dimension):\n",
    "    def __init__(self, radius):\n",
    "        self.radius = radius\n",
    "\n",
    "    def area(self):\n",
    "        return math.pi * self.radius ** 2\n",
    "\n",
    "\n",
    "class Rectangle(Dimension):\n",
    "    def __init__(self, length, width):\n",
    "        self.length = length\n",
    "        self.width = width\n",
    "\n",
    "    def area(self):\n",
    "        return self.length * self.width\n",
    "\n",
    "\n",
    "triangle = Triangle(10, 5)\n",
    "circle = Circle(7)\n",
    "rectangle = Rectangle(8, 6)\n",
    "\n",
    "print(\"Triangle Area:\", triangle.area())\n",
    "print(\"Circle Area:\", circle.area())\n",
    "print(\"Rectangle Area:\", rectangle.area())"
   ]
  },
  {
   "cell_type": "markdown",
   "id": "9b28f438",
   "metadata": {},
   "source": [
    "# 2.7 创建MyMath类\n",
    "编写程序，创建类MyMath，计算圆的周长和面积以及球的表面积和体积，并编写测试代码，结果均保留两位小数。    "
   ]
  },
  {
   "cell_type": "markdown",
   "id": "87f5b01c",
   "metadata": {},
   "source": [
    "# 2.8 学校信息管理系统\n",
    "建立学校信息管理系统：\n",
    "\t建立Person类，包括：姓名name、性别sex、年龄age这3个数据成员，一个构造函数、一个输出信息的printInfo函数。\n",
    "\t建立Student类，该类继承自Person类，并且新增数据成员：班级classes（用string类型）、学号studentID（用int类型）、成绩score（用字典类型，可以自己定义三门课程，比如语数外）、总人数count（用int类型，这是静态属性，即类属性），和一个构造函数、一个输出信息的printInfo函数。\n",
    "\t建立Teacher类，该类也继承自Person类，并且新增：部门department（用string类型）、工号teacherID（用int类型）、讲授课程course（用列表类型）、薪水salary（用int类型，这是私有数据）这4个数据成员，和一个构造函数、一个输出信息的printInfo函数（这里不输出私有数据，但可以考虑一下如何提供私有数据的输出方法）。\n",
    "然后创建2个学生对象和1个教师对象，然后分别调用这3个对象的printInfo函数输出各自的（非私有）数据信息。在学生的构造函数中让count自增，在析构函数中让count自减。\n",
    "（说明：上面已经规定的内容在自己编程时也允许灵活调整，没有规定的更是可以自由发挥，主要是必须学会类的定义和使用）"
   ]
  }
 ],
 "metadata": {
  "kernelspec": {
   "display_name": "Python 3",
   "language": "python",
   "name": "python3"
  },
  "language_info": {
   "codemirror_mode": {
    "name": "ipython",
    "version": 2
   },
   "file_extension": ".py",
   "mimetype": "text/x-python",
   "name": "python",
   "nbconvert_exporter": "python",
   "pygments_lexer": "ipython2",
   "version": "2.7.6"
  }
 },
 "nbformat": 4,
 "nbformat_minor": 5
}
