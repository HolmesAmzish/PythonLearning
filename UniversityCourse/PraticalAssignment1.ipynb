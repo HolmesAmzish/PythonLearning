{
 "cells": [
  {
   "metadata": {},
   "cell_type": "markdown",
   "source": [
    "# Python 上机作业 1\n",
    "\n",
    "*2024-09-26*"
   ],
   "id": "e6d25840074ecb2b"
  },
  {
   "metadata": {},
   "cell_type": "markdown",
   "source": [
    "## 1.1 找素数\n",
    "输出101到200之间的素数，要求每行输出10个，多余换行。"
   ],
   "id": "e7de76b3129568e9"
  },
  {
   "metadata": {
    "ExecuteTime": {
     "end_time": "2024-10-24T04:08:08.521941Z",
     "start_time": "2024-10-24T04:08:08.514093Z"
    }
   },
   "cell_type": "code",
   "source": [
    "\"\"\"\n",
    "problem: find prime number between 101 and 200\n",
    "date: 2024-09-26\n",
    "\"\"\"\n",
    "\n",
    "def is_prime(n):\n",
    "    if n <= 1:\n",
    "        return False\n",
    "    for i in range(2, int(n**0.5) + 1):\n",
    "        if n % i == 0:\n",
    "            return False\n",
    "    return True\n",
    "\n",
    "count = 0\n",
    "for i in range(101, 200):\n",
    "    if is_prime(i):\n",
    "        print(i, end=' ')\n",
    "        count += 1\n",
    "        if count % 10 == 0:\n",
    "            print()"
   ],
   "id": "5dec235932cf2a7",
   "outputs": [
    {
     "name": "stdout",
     "output_type": "stream",
     "text": [
      "101 103 107 109 113 127 131 137 139 149 \n",
      "151 157 163 167 173 179 181 191 193 197 \n",
      "199 "
     ]
    }
   ],
   "execution_count": 3
  },
  {
   "metadata": {},
   "cell_type": "markdown",
   "source": [
    "## 1.2 计算n阶调和数\n",
    "先一个定义计算并返回第n阶调和数（1 + 1/2 + 1/3 + … + 1/n）的函数，然后在命令行中输入参数n，调用函数计算前n个调和数之和，并将每次函数调用的结果放入一个列表，最后输出该列表，以及列表中所有元素之和（精确到小数点后面一位）。"
   ],
   "id": "c720ddec15f6c1d3"
  },
  {
   "metadata": {
    "ExecuteTime": {
     "end_time": "2024-10-24T04:08:15.441443Z",
     "start_time": "2024-10-24T04:08:11.249742Z"
    }
   },
   "cell_type": "code",
   "source": [
    "\"\"\"\n",
    "problem: Harmonic numbers\n",
    "date: 2024-09-26\n",
    "\"\"\"\n",
    "\n",
    "def harmonic_number(n):\n",
    "    return round(sum(1 / i for i in range(1, n + 1)), 1)\n",
    "\n",
    "n = int(input(\"Enter an integer: \"))\n",
    "harmonic_numbers = [harmonic_number(i) for i in range(1, n + 1)]\n",
    "\n",
    "print(\"The list of Harmonic numbers: \", harmonic_numbers)\n",
    "print(\"The sum of the list: \", sum(harmonic_numbers))"
   ],
   "id": "c1327b9b1db67dd7",
   "outputs": [
    {
     "name": "stdout",
     "output_type": "stream",
     "text": [
      "The list of Harmonic numbers:  [1.0, 1.5, 1.8, 2.1, 2.3, 2.5, 2.6, 2.7, 2.8, 2.9]\n",
      "The sum of the list:  22.2\n"
     ]
    }
   ],
   "execution_count": 4
  },
  {
   "metadata": {},
   "cell_type": "markdown",
   "source": [
    "## 1.3 列表操作\n",
    "由用户输入n个整数，将这些整数构成一个列表。要求显示出该列表的元素个数、最大值、最小值、所有元素之和、平均值。请思考用多种方法来实现。"
   ],
   "id": "52b12e3af2b76460"
  },
  {
   "metadata": {
    "ExecuteTime": {
     "end_time": "2024-10-24T04:08:27.112500Z",
     "start_time": "2024-10-24T04:08:19.800913Z"
    }
   },
   "cell_type": "code",
   "source": [
    "\"\"\"\n",
    "problem: Operation of List\n",
    "date: 2024-09-26\n",
    "\"\"\"\n",
    "\n",
    "input_numbers = input('Enter the list of number: ')\n",
    "numbers = list(map(int, input_numbers.split()))\n",
    "\n",
    "length = len(numbers)\n",
    "max_value = max(numbers)\n",
    "min_value = min(numbers)\n",
    "sum_value = sum(numbers)\n",
    "average_value = sum_value / length\n",
    "\n",
    "print('Length =', length, '\\n'\n",
    "      'Max =', max_value, '\\n'\n",
    "      'Min =', min_value, '\\n'\n",
    "      'Sum =', sum_value, '\\n'\n",
    "      'Average =', average_value)"
   ],
   "id": "9c83da016ad04466",
   "outputs": [
    {
     "name": "stdout",
     "output_type": "stream",
     "text": [
      "Length = 10 \n",
      "Max = 10 \n",
      "Min = 1 \n",
      "Sum = 55 \n",
      "Average = 5.5\n"
     ]
    }
   ],
   "execution_count": 5
  },
  {
   "metadata": {},
   "cell_type": "markdown",
   "source": [
    "## 1.4 利用循环语句求和\n",
    "分别利用for循环和while循环求1~100中所有数之和，以及所有奇数的和、所有偶数的和。"
   ],
   "id": "61054c2d832c5b30"
  },
  {
   "metadata": {
    "ExecuteTime": {
     "end_time": "2024-10-24T04:08:34.370520Z",
     "start_time": "2024-10-24T04:08:34.361573Z"
    }
   },
   "cell_type": "code",
   "source": [
    "print(\"Find the sum by using 'for'\")\n",
    "\n",
    "sum = 0\n",
    "sum_odd = 0\n",
    "sum_even = 0\n",
    "\n",
    "for i in range(1, 101):\n",
    "    sum += i\n",
    "\n",
    "for i in range(1, 101, 2):\n",
    "    sum_odd += i\n",
    "\n",
    "for i in range(2, 101, 2):\n",
    "    sum_even += i\n",
    "\n",
    "print('Sum:', sum, '\\n', 'Sum of odd:', sum_odd, '\\n', 'Sum of even:', sum_even)\n",
    "\n",
    "print(\"Find the sum by using 'while'\")\n",
    "\n",
    "sum = 0\n",
    "sum_odd = 0\n",
    "sum_even = 0\n",
    "\n",
    "i = 0\n",
    "while(i <= 100):\n",
    "    sum += i\n",
    "    if i % 2 == 0:\n",
    "        sum_even += i\n",
    "    else:\n",
    "        sum_odd += i\n",
    "    i += 1\n",
    "\n",
    "print('Sum:', sum, '\\n', 'Sum of odd:', sum_odd, '\\n', 'Sum of even:', sum_even)"
   ],
   "id": "80a468347b35e281",
   "outputs": [
    {
     "name": "stdout",
     "output_type": "stream",
     "text": [
      "Find the sum by using 'for'\n",
      "Sum: 5050 \n",
      " Sum of odd: 2500 \n",
      " Sum of even: 2550\n",
      "Find the sum by using 'while'\n",
      "Sum: 5050 \n",
      " Sum of odd: 2500 \n",
      " Sum of even: 2550\n"
     ]
    }
   ],
   "execution_count": 6
  },
  {
   "metadata": {},
   "cell_type": "markdown",
   "source": [
    "## 1.5 判断闰年\n",
    "至少使用2种方法编写一个函数来判断某一年是否为闰年。\n",
    "年份数据由用户输入，调用该函数，函数调用完毕后，输出判断结果。"
   ],
   "id": "d76410a436a72a5c"
  },
  {
   "metadata": {
    "ExecuteTime": {
     "end_time": "2024-10-24T04:08:47.888555Z",
     "start_time": "2024-10-24T04:08:45.720004Z"
    }
   },
   "cell_type": "code",
   "source": [
    "\"\"\"\n",
    "problem: determing leap years\n",
    "date: 2024-09-26\n",
    "\"\"\"\n",
    "\n",
    "def is_leap_year(year):\n",
    "    if year % 4 == 0 and (year % 100 != 0 or year % 400 == 0):\n",
    "        return True\n",
    "    else:\n",
    "        return False\n",
    "\n",
    "year = int(input(\"Enter a year: \"))\n",
    "if is_leap_year(year):\n",
    "    print(year, \"is leap year\")\n",
    "else:\n",
    "    print(year, \"is not a leap year\")"
   ],
   "id": "d179ddae1279e4ee",
   "outputs": [
    {
     "name": "stdout",
     "output_type": "stream",
     "text": [
      "2004 is leap year\n"
     ]
    }
   ],
   "execution_count": 7
  },
  {
   "metadata": {},
   "cell_type": "markdown",
   "source": [
    "## 1.6 判断回文\n",
    "编写程序，判断用户输入的一个字符串是否为回文。如果是则输出True，否则输出Flase"
   ],
   "id": "bb99b8e09f1698d3"
  },
  {
   "metadata": {
    "ExecuteTime": {
     "end_time": "2024-10-24T04:09:19.618973Z",
     "start_time": "2024-10-24T04:08:53.390110Z"
    }
   },
   "cell_type": "code",
   "source": [
    "def is_parlindrom(string):\n",
    "    return string == string[::-1]\n",
    "\n",
    "string = input('Enter a string: ')\n",
    "if is_parlindrom(string):\n",
    "    print('The input is a parlindrom')\n",
    "else:\n",
    "    print('The input is not a parlindrom')"
   ],
   "id": "189a10c7a6b6dec1",
   "outputs": [
    {
     "name": "stdout",
     "output_type": "stream",
     "text": [
      "The input is a parlindrom\n"
     ]
    }
   ],
   "execution_count": 8
  },
  {
   "metadata": {},
   "cell_type": "markdown",
   "source": [
    "## 1.7 计算三角形面积\n",
    "由用户输入三角形的三条边的边长a、b和c，计算并输出三角形的面积。提示:利用三角形周长的一半h来计算面积。\n",
    "\n",
    "在写出基本程序之后建议尝试增加如下一些功能：\n",
    "\n",
    "1. 使用2种输出格式控制方式。\n",
    "2. 若由用户输入三角形的三条边的边长（即a、b、c），则必须对三角形的边长小于或等于0和两边之和小于或等于第三边的情况识别出来，并提示用户。\n",
    "\n",
    "请思考下面两种解决方案：\n",
    "\n",
    "1. 用while循环语句进行判断，出现上述错误会提示并要求用户重新输入三条边长，直到用户输入合法边长之后计算并输出三角形的面积。\n",
    "2. 用异常处理机制（raise语句和ValueError对象）来终止程序并提醒用户错误的原因。（注意：可以在学完异常处理之后再来完善该题）\n"
   ],
   "id": "d03902d27e42af20"
  },
  {
   "metadata": {
    "ExecuteTime": {
     "end_time": "2024-10-24T04:09:37.288349Z",
     "start_time": "2024-10-24T04:09:34.129700Z"
    }
   },
   "cell_type": "code",
   "source": [
    "\"\"\"\n",
    "problem: Find the area of the triangle\n",
    "date: 2024-09-26\n",
    "\"\"\"\n",
    "\n",
    "def caculate_triangle_area(a, b, c):\n",
    "    h = (a + b + c) / 2\n",
    "    return (h * (h - a) * (h - b) * (h - c)) ** 0.5\n",
    "\n",
    "def get_triangle_sides():\n",
    "    while True:\n",
    "        try:\n",
    "            a = int(input('Enter a side:'))\n",
    "            b = int(input('Enter b side:'))\n",
    "            c = int(input('Enter c side:'))\n",
    "            if a < 0 and b < 0 and c < 0 and a + b < c and a + c < b and b + c < a:\n",
    "                print('Invalid sides, pls retry.')\n",
    "                continue\n",
    "            return a, b, c\n",
    "\n",
    "        except ValueError:\n",
    "            print('Input value invalid!')\n",
    "\n",
    "a, b, c = get_triangle_sides()\n",
    "area = caculate_triangle_area(a, b, c)\n",
    "\n",
    "print('The are of the triangle is:', round(area, 2))"
   ],
   "id": "bd3f3d6b8c7ca419",
   "outputs": [
    {
     "name": "stdout",
     "output_type": "stream",
     "text": [
      "The are of the triangle is: 229.06\n"
     ]
    }
   ],
   "execution_count": 10
  }
 ],
 "metadata": {
  "kernelspec": {
   "display_name": "Python 3",
   "language": "python",
   "name": "python3"
  },
  "language_info": {
   "codemirror_mode": {
    "name": "ipython",
    "version": 2
   },
   "file_extension": ".py",
   "mimetype": "text/x-python",
   "name": "python",
   "nbconvert_exporter": "python",
   "pygments_lexer": "ipython2",
   "version": "2.7.6"
  }
 },
 "nbformat": 4,
 "nbformat_minor": 5
}
